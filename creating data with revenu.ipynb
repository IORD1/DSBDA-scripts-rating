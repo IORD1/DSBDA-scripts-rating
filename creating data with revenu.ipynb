{
 "cells": [
  {
   "cell_type": "code",
   "execution_count": 1,
   "id": "1d3a7cb4",
   "metadata": {},
   "outputs": [],
   "source": [
    "import pandas as pd"
   ]
  },
  {
   "cell_type": "code",
   "execution_count": 3,
   "id": "6fb8f7ae",
   "metadata": {},
   "outputs": [],
   "source": [
    "df = pd.read_csv(\"editedcsv/movie-final-small.csv\")"
   ]
  },
  {
   "cell_type": "code",
   "execution_count": 4,
   "id": "02d113d9",
   "metadata": {},
   "outputs": [
    {
     "data": {
      "text/plain": [
       "(1925, 28)"
      ]
     },
     "execution_count": 4,
     "metadata": {},
     "output_type": "execute_result"
    }
   ],
   "source": [
    "df.shape"
   ]
  },
  {
   "cell_type": "code",
   "execution_count": 8,
   "id": "f9d8bf2a",
   "metadata": {},
   "outputs": [
    {
     "data": {
      "text/plain": [
       "Unnamed: 0.3              int64\n",
       "Unnamed: 0.2              int64\n",
       "movieId                   int64\n",
       "actor_1_gender            int64\n",
       "actor_2_gender            int64\n",
       "actor_1_name             object\n",
       "actor_2_name             object\n",
       "director_gender           int64\n",
       "director_name            object\n",
       "Unnamed: 0.1              int64\n",
       "Unnamed: 0               object\n",
       "adult                      bool\n",
       "budget                    int64\n",
       "genres                   object\n",
       "original_language        object\n",
       "original_title           object\n",
       "overview                 object\n",
       "popularity              float64\n",
       "production_companies     object\n",
       "production_countries     object\n",
       "release_date             object\n",
       "revenue                 float64\n",
       "runtime                 float64\n",
       "spoken_languages         object\n",
       "title                    object\n",
       "vote_average            float64\n",
       "vote_count              float64\n",
       "rating                  float64\n",
       "dtype: object"
      ]
     },
     "execution_count": 8,
     "metadata": {},
     "output_type": "execute_result"
    }
   ],
   "source": [
    "df.dtypes"
   ]
  },
  {
   "cell_type": "code",
   "execution_count": 9,
   "id": "581ccc62",
   "metadata": {},
   "outputs": [],
   "source": [
    "de = df[['movieId', 'rating']].copy()"
   ]
  },
  {
   "cell_type": "code",
   "execution_count": 10,
   "id": "a5b67a1d",
   "metadata": {},
   "outputs": [],
   "source": [
    "data = pd.read_csv(\"editedcsv/processed1.csv\")"
   ]
  },
  {
   "cell_type": "code",
   "execution_count": 11,
   "id": "385c2551",
   "metadata": {},
   "outputs": [
    {
     "data": {
      "text/plain": [
       "Unnamed: 0.2              int64\n",
       "movie_id                  int64\n",
       "actor_1_gender            int64\n",
       "actor_2_gender            int64\n",
       "actor_1_name             object\n",
       "actor_2_name             object\n",
       "director_gender           int64\n",
       "director_name            object\n",
       "Unnamed: 0.1              int64\n",
       "Unnamed: 0               object\n",
       "adult                      bool\n",
       "budget                    int64\n",
       "genres                   object\n",
       "original_language        object\n",
       "original_title           object\n",
       "overview                 object\n",
       "popularity              float64\n",
       "production_companies     object\n",
       "production_countries     object\n",
       "release_date             object\n",
       "revenue                 float64\n",
       "runtime                 float64\n",
       "spoken_languages         object\n",
       "title                    object\n",
       "vote_average            float64\n",
       "vote_count              float64\n",
       "dtype: object"
      ]
     },
     "execution_count": 11,
     "metadata": {},
     "output_type": "execute_result"
    }
   ],
   "source": [
    "data.dtypes"
   ]
  },
  {
   "cell_type": "code",
   "execution_count": 12,
   "id": "b4471229",
   "metadata": {},
   "outputs": [],
   "source": [
    "do = data[['movie_id', 'overview']].copy()"
   ]
  },
  {
   "cell_type": "code",
   "execution_count": 13,
   "id": "708dc496",
   "metadata": {},
   "outputs": [],
   "source": [
    "do.rename(columns = {'movie_id':'movieId'}, inplace = True)"
   ]
  },
  {
   "cell_type": "code",
   "execution_count": 14,
   "id": "c7c8d7c6",
   "metadata": {},
   "outputs": [
    {
     "data": {
      "text/html": [
       "<div>\n",
       "<style scoped>\n",
       "    .dataframe tbody tr th:only-of-type {\n",
       "        vertical-align: middle;\n",
       "    }\n",
       "\n",
       "    .dataframe tbody tr th {\n",
       "        vertical-align: top;\n",
       "    }\n",
       "\n",
       "    .dataframe thead th {\n",
       "        text-align: right;\n",
       "    }\n",
       "</style>\n",
       "<table border=\"1\" class=\"dataframe\">\n",
       "  <thead>\n",
       "    <tr style=\"text-align: right;\">\n",
       "      <th></th>\n",
       "      <th>movieId</th>\n",
       "      <th>overview</th>\n",
       "    </tr>\n",
       "  </thead>\n",
       "  <tbody>\n",
       "    <tr>\n",
       "      <th>0</th>\n",
       "      <td>862</td>\n",
       "      <td>lead woody andy toy live happily room andy bir...</td>\n",
       "    </tr>\n",
       "    <tr>\n",
       "      <th>1</th>\n",
       "      <td>8844</td>\n",
       "      <td>sibling judy peter discover enchant board game...</td>\n",
       "    </tr>\n",
       "    <tr>\n",
       "      <th>2</th>\n",
       "      <td>15602</td>\n",
       "      <td>family wed reignites ancient feud next door ne...</td>\n",
       "    </tr>\n",
       "    <tr>\n",
       "      <th>3</th>\n",
       "      <td>31357</td>\n",
       "      <td>cheat mistreat stepped woman hold breath wait ...</td>\n",
       "    </tr>\n",
       "    <tr>\n",
       "      <th>4</th>\n",
       "      <td>11862</td>\n",
       "      <td>george bank recover daughter wed receives news...</td>\n",
       "    </tr>\n",
       "    <tr>\n",
       "      <th>...</th>\n",
       "      <td>...</td>\n",
       "      <td>...</td>\n",
       "    </tr>\n",
       "    <tr>\n",
       "      <th>40392</th>\n",
       "      <td>289923</td>\n",
       "      <td>film archivist revisit story rustin parr hermi...</td>\n",
       "    </tr>\n",
       "    <tr>\n",
       "      <th>40393</th>\n",
       "      <td>222848</td>\n",
       "      <td>year ad world dangerous woman banish remote as...</td>\n",
       "    </tr>\n",
       "    <tr>\n",
       "      <th>40394</th>\n",
       "      <td>30840</td>\n",
       "      <td>yet another version classic epic enough variat...</td>\n",
       "    </tr>\n",
       "    <tr>\n",
       "      <th>40395</th>\n",
       "      <td>67758</td>\n",
       "      <td>one hit go wrong professional assassin end sui...</td>\n",
       "    </tr>\n",
       "    <tr>\n",
       "      <th>40396</th>\n",
       "      <td>227506</td>\n",
       "      <td>small town live two brother one minister one h...</td>\n",
       "    </tr>\n",
       "  </tbody>\n",
       "</table>\n",
       "<p>40397 rows × 2 columns</p>\n",
       "</div>"
      ],
      "text/plain": [
       "       movieId                                           overview\n",
       "0          862  lead woody andy toy live happily room andy bir...\n",
       "1         8844  sibling judy peter discover enchant board game...\n",
       "2        15602  family wed reignites ancient feud next door ne...\n",
       "3        31357  cheat mistreat stepped woman hold breath wait ...\n",
       "4        11862  george bank recover daughter wed receives news...\n",
       "...        ...                                                ...\n",
       "40392   289923  film archivist revisit story rustin parr hermi...\n",
       "40393   222848  year ad world dangerous woman banish remote as...\n",
       "40394    30840  yet another version classic epic enough variat...\n",
       "40395    67758  one hit go wrong professional assassin end sui...\n",
       "40396   227506  small town live two brother one minister one h...\n",
       "\n",
       "[40397 rows x 2 columns]"
      ]
     },
     "execution_count": 14,
     "metadata": {},
     "output_type": "execute_result"
    }
   ],
   "source": [
    "do"
   ]
  },
  {
   "cell_type": "code",
   "execution_count": 15,
   "id": "4a889396",
   "metadata": {},
   "outputs": [
    {
     "data": {
      "text/html": [
       "<div>\n",
       "<style scoped>\n",
       "    .dataframe tbody tr th:only-of-type {\n",
       "        vertical-align: middle;\n",
       "    }\n",
       "\n",
       "    .dataframe tbody tr th {\n",
       "        vertical-align: top;\n",
       "    }\n",
       "\n",
       "    .dataframe thead th {\n",
       "        text-align: right;\n",
       "    }\n",
       "</style>\n",
       "<table border=\"1\" class=\"dataframe\">\n",
       "  <thead>\n",
       "    <tr style=\"text-align: right;\">\n",
       "      <th></th>\n",
       "      <th>movieId</th>\n",
       "      <th>rating</th>\n",
       "    </tr>\n",
       "  </thead>\n",
       "  <tbody>\n",
       "    <tr>\n",
       "      <th>0</th>\n",
       "      <td>862</td>\n",
       "      <td>3.598930</td>\n",
       "    </tr>\n",
       "    <tr>\n",
       "      <th>1</th>\n",
       "      <td>8844</td>\n",
       "      <td>3.760163</td>\n",
       "    </tr>\n",
       "    <tr>\n",
       "      <th>2</th>\n",
       "      <td>949</td>\n",
       "      <td>3.905544</td>\n",
       "    </tr>\n",
       "    <tr>\n",
       "      <th>3</th>\n",
       "      <td>710</td>\n",
       "      <td>2.740334</td>\n",
       "    </tr>\n",
       "    <tr>\n",
       "      <th>4</th>\n",
       "      <td>1408</td>\n",
       "      <td>3.710181</td>\n",
       "    </tr>\n",
       "    <tr>\n",
       "      <th>...</th>\n",
       "      <td>...</td>\n",
       "      <td>...</td>\n",
       "    </tr>\n",
       "    <tr>\n",
       "      <th>1920</th>\n",
       "      <td>8453</td>\n",
       "      <td>3.037500</td>\n",
       "    </tr>\n",
       "    <tr>\n",
       "      <th>1921</th>\n",
       "      <td>123229</td>\n",
       "      <td>2.150000</td>\n",
       "    </tr>\n",
       "    <tr>\n",
       "      <th>1922</th>\n",
       "      <td>159447</td>\n",
       "      <td>3.326531</td>\n",
       "    </tr>\n",
       "    <tr>\n",
       "      <th>1923</th>\n",
       "      <td>75438</td>\n",
       "      <td>2.740506</td>\n",
       "    </tr>\n",
       "    <tr>\n",
       "      <th>1924</th>\n",
       "      <td>26147</td>\n",
       "      <td>3.629412</td>\n",
       "    </tr>\n",
       "  </tbody>\n",
       "</table>\n",
       "<p>1925 rows × 2 columns</p>\n",
       "</div>"
      ],
      "text/plain": [
       "      movieId    rating\n",
       "0         862  3.598930\n",
       "1        8844  3.760163\n",
       "2         949  3.905544\n",
       "3         710  2.740334\n",
       "4        1408  3.710181\n",
       "...       ...       ...\n",
       "1920     8453  3.037500\n",
       "1921   123229  2.150000\n",
       "1922   159447  3.326531\n",
       "1923    75438  2.740506\n",
       "1924    26147  3.629412\n",
       "\n",
       "[1925 rows x 2 columns]"
      ]
     },
     "execution_count": 15,
     "metadata": {},
     "output_type": "execute_result"
    }
   ],
   "source": [
    "de"
   ]
  },
  {
   "cell_type": "code",
   "execution_count": 16,
   "id": "b98aaba9",
   "metadata": {},
   "outputs": [],
   "source": [
    "dfm = pd.merge(do, de, on=\"movieId\")"
   ]
  },
  {
   "cell_type": "code",
   "execution_count": 19,
   "id": "23634117",
   "metadata": {},
   "outputs": [
    {
     "data": {
      "text/plain": [
       "movieId       int64\n",
       "overview     object\n",
       "rating      float64\n",
       "dtype: object"
      ]
     },
     "execution_count": 19,
     "metadata": {},
     "output_type": "execute_result"
    }
   ],
   "source": [
    "dfm.dtypes"
   ]
  },
  {
   "cell_type": "code",
   "execution_count": 24,
   "id": "e91ce498",
   "metadata": {},
   "outputs": [],
   "source": [
    "dfm['Label'] = pd.cut(x=dfm['rating'],\n",
    "                     bins=[0,1,2,3,4,5],\n",
    "                     labels=['0 star', '1 Sstar', '2 star','3 star','4 star'])\n",
    "  "
   ]
  },
  {
   "cell_type": "code",
   "execution_count": 25,
   "id": "f95d6de2",
   "metadata": {},
   "outputs": [
    {
     "data": {
      "text/plain": [
       "['3 star', '2 star', '1 Sstar', '4 star', '0 star']\n",
       "Categories (5, object): ['0 star' < '1 Sstar' < '2 star' < '3 star' < '4 star']"
      ]
     },
     "execution_count": 25,
     "metadata": {},
     "output_type": "execute_result"
    }
   ],
   "source": [
    "dfm['Label'].unique()"
   ]
  },
  {
   "cell_type": "code",
   "execution_count": 26,
   "id": "28b3994f",
   "metadata": {},
   "outputs": [],
   "source": [
    "dfm.to_csv('ratingclassfied.csv')"
   ]
  },
  {
   "cell_type": "code",
   "execution_count": 2,
   "id": "a040e1a8",
   "metadata": {},
   "outputs": [],
   "source": [
    "import pandas as pd"
   ]
  },
  {
   "cell_type": "code",
   "execution_count": 3,
   "id": "254c62b6",
   "metadata": {},
   "outputs": [],
   "source": [
    "df = pd.read_csv(\"ratingclassfied.csv\")"
   ]
  },
  {
   "cell_type": "code",
   "execution_count": 5,
   "id": "03e45f3f",
   "metadata": {},
   "outputs": [
    {
     "data": {
      "image/png": "[encoded data removed]",
      "text/plain": [
       "<Figure size 640x480 with 1 Axes>"
      ]
     },
     "metadata": {},
     "output_type": "display_data"
    }
   ],
   "source": [
    "import matplotlib.pyplot as plt\n",
    "\n",
    "\n",
    "# Group the dataframe by genre\n",
    "genre_groups = df.groupby('Label')\n",
    "\n",
    "# Sum the values in each group\n",
    "genre_counts = genre_groups['Label'].count()\n",
    "\n",
    "# Plot the pie chart\n",
    "plt.pie(genre_counts, labels=genre_groups.groups.keys())\n",
    "plt.show()\n"
   ]
  },
  {
   "cell_type": "code",
   "execution_count": 6,
   "id": "f42af594",
   "metadata": {},
   "outputs": [
    {
     "data": {
      "image/png": "[encoded data removed]",
      "text/plain": [
       "<Figure size 640x480 with 1 Axes>"
      ]
     },
     "metadata": {},
     "output_type": "display_data"
    }
   ],
   "source": [
    "import matplotlib.pyplot as plt\n",
    "import numpy as np\n",
    "\n",
    "# Example data\n",
    "np.random.seed(0)\n",
    "data = df['Label']\n",
    "\n",
    "# Plotting the histogram\n",
    "plt.hist(data, bins=30, edgecolor='black')\n",
    "plt.xlabel('Value')\n",
    "plt.ylabel('Frequency')\n",
    "plt.title('Histogram of Random Data')\n",
    "plt.show()"
   ]
  },
  {
   "cell_type": "code",
   "execution_count": null,
   "id": "c169d8d4",
   "metadata": {},
   "outputs": [],
   "source": []
  }
 ],
 "metadata": {
  "kernelspec": {
   "display_name": "Python 3 (ipykernel)",
   "language": "python",
   "name": "python3"
  },
  "language_info": {
   "codemirror_mode": {
    "name": "ipython",
    "version": 3
   },
   "file_extension": ".py",
   "mimetype": "text/x-python",
   "name": "python",
   "nbconvert_exporter": "python",
   "pygments_lexer": "ipython3",
   "version": "3.10.6"
  }
 },
 "nbformat": 4,
 "nbformat_minor": 5
}
