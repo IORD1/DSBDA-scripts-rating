{
 "cells": [
  {
   "cell_type": "code",
   "execution_count": 1,
   "id": "d9d35f8e",
   "metadata": {},
   "outputs": [],
   "source": [
    "import pandas as pd"
   ]
  },
  {
   "cell_type": "code",
   "execution_count": 2,
   "id": "559aee55",
   "metadata": {},
   "outputs": [],
   "source": [
    "df = pd.read_csv(\"final_ka_final.csv\")"
   ]
  },
  {
   "cell_type": "code",
   "execution_count": 3,
   "id": "3de79fa7",
   "metadata": {},
   "outputs": [],
   "source": [
    "dfr = pd.read_csv(\"rating_mean_all.csv\")"
   ]
  },
  {
   "cell_type": "code",
   "execution_count": 4,
   "id": "d1eff226",
   "metadata": {},
   "outputs": [
    {
     "data": {
      "text/plain": [
       "(7304, 26)"
      ]
     },
     "execution_count": 4,
     "metadata": {},
     "output_type": "execute_result"
    }
   ],
   "source": [
    "df.shape"
   ]
  },
  {
   "cell_type": "code",
   "execution_count": 5,
   "id": "525d1790",
   "metadata": {},
   "outputs": [
    {
     "data": {
      "text/plain": [
       "(45115, 2)"
      ]
     },
     "execution_count": 5,
     "metadata": {},
     "output_type": "execute_result"
    }
   ],
   "source": [
    "dfr.shape"
   ]
  },
  {
   "cell_type": "code",
   "execution_count": 6,
   "id": "a2d012fa",
   "metadata": {},
   "outputs": [
    {
     "data": {
      "text/plain": [
       "Unnamed: 0.2            0\n",
       "movie_id                0\n",
       "actor_1_gender          0\n",
       "actor_2_gender          0\n",
       "actor_1_name            0\n",
       "actor_2_name            0\n",
       "director_gender         0\n",
       "director_name           0\n",
       "Unnamed: 0.1            0\n",
       "Unnamed: 0              0\n",
       "adult                   0\n",
       "budget                  0\n",
       "genres                  0\n",
       "original_language       0\n",
       "original_title          0\n",
       "overview                0\n",
       "popularity              0\n",
       "production_companies    0\n",
       "production_countries    0\n",
       "release_date            0\n",
       "revenue                 0\n",
       "runtime                 0\n",
       "spoken_languages        0\n",
       "title                   0\n",
       "vote_average            0\n",
       "vote_count              0\n",
       "dtype: int64"
      ]
     },
     "execution_count": 6,
     "metadata": {},
     "output_type": "execute_result"
    }
   ],
   "source": [
    "df.isnull().sum()"
   ]
  },
  {
   "cell_type": "code",
   "execution_count": 7,
   "id": "1d53f646",
   "metadata": {},
   "outputs": [
    {
     "data": {
      "text/plain": [
       "movieId    0\n",
       "rating     0\n",
       "dtype: int64"
      ]
     },
     "execution_count": 7,
     "metadata": {},
     "output_type": "execute_result"
    }
   ],
   "source": [
    "dfr.isnull().sum()"
   ]
  },
  {
   "cell_type": "code",
   "execution_count": 8,
   "id": "ddb4586c",
   "metadata": {},
   "outputs": [
    {
     "data": {
      "text/plain": [
       "Unnamed: 0.2              int64\n",
       "movie_id                  int64\n",
       "actor_1_gender            int64\n",
       "actor_2_gender            int64\n",
       "actor_1_name             object\n",
       "actor_2_name             object\n",
       "director_gender           int64\n",
       "director_name            object\n",
       "Unnamed: 0.1              int64\n",
       "Unnamed: 0               object\n",
       "adult                      bool\n",
       "budget                    int64\n",
       "genres                   object\n",
       "original_language        object\n",
       "original_title           object\n",
       "overview                 object\n",
       "popularity              float64\n",
       "production_companies     object\n",
       "production_countries     object\n",
       "release_date             object\n",
       "revenue                 float64\n",
       "runtime                 float64\n",
       "spoken_languages         object\n",
       "title                    object\n",
       "vote_average            float64\n",
       "vote_count              float64\n",
       "dtype: object"
      ]
     },
     "execution_count": 8,
     "metadata": {},
     "output_type": "execute_result"
    }
   ],
   "source": [
    "df.dtypes"
   ]
  },
  {
   "cell_type": "code",
   "execution_count": 9,
   "id": "763d4c98",
   "metadata": {},
   "outputs": [
    {
     "data": {
      "text/plain": [
       "movieId      int64\n",
       "rating     float64\n",
       "dtype: object"
      ]
     },
     "execution_count": 9,
     "metadata": {},
     "output_type": "execute_result"
    }
   ],
   "source": [
    "dfr.dtypes"
   ]
  },
  {
   "cell_type": "code",
   "execution_count": 13,
   "id": "65b78184",
   "metadata": {},
   "outputs": [],
   "source": [
    "df.rename(columns = {'movie_id':'movieId'}, inplace = True)"
   ]
  },
  {
   "cell_type": "code",
   "execution_count": 15,
   "id": "06691ed7",
   "metadata": {},
   "outputs": [],
   "source": [
    "dfm = pd.merge(df, dfr, on=\"movieId\")"
   ]
  },
  {
   "cell_type": "code",
   "execution_count": 17,
   "id": "3158a813",
   "metadata": {},
   "outputs": [
    {
     "data": {
      "text/plain": [
       "(1925, 27)"
      ]
     },
     "execution_count": 17,
     "metadata": {},
     "output_type": "execute_result"
    }
   ],
   "source": [
    "dfm.shape"
   ]
  },
  {
   "cell_type": "code",
   "execution_count": 18,
   "id": "c4dd246d",
   "metadata": {},
   "outputs": [
    {
     "data": {
      "text/plain": [
       "Unnamed: 0.2            0\n",
       "movieId                 0\n",
       "actor_1_gender          0\n",
       "actor_2_gender          0\n",
       "actor_1_name            0\n",
       "actor_2_name            0\n",
       "director_gender         0\n",
       "director_name           0\n",
       "Unnamed: 0.1            0\n",
       "Unnamed: 0              0\n",
       "adult                   0\n",
       "budget                  0\n",
       "genres                  0\n",
       "original_language       0\n",
       "original_title          0\n",
       "overview                0\n",
       "popularity              0\n",
       "production_companies    0\n",
       "production_countries    0\n",
       "release_date            0\n",
       "revenue                 0\n",
       "runtime                 0\n",
       "spoken_languages        0\n",
       "title                   0\n",
       "vote_average            0\n",
       "vote_count              0\n",
       "rating                  0\n",
       "dtype: int64"
      ]
     },
     "execution_count": 18,
     "metadata": {},
     "output_type": "execute_result"
    }
   ],
   "source": [
    "dfm.isnull().sum()"
   ]
  },
  {
   "cell_type": "code",
   "execution_count": 20,
   "id": "6f6b6b81",
   "metadata": {},
   "outputs": [
    {
     "data": {
      "text/html": [
       "<div>\n",
       "<style scoped>\n",
       "    .dataframe tbody tr th:only-of-type {\n",
       "        vertical-align: middle;\n",
       "    }\n",
       "\n",
       "    .dataframe tbody tr th {\n",
       "        vertical-align: top;\n",
       "    }\n",
       "\n",
       "    .dataframe thead th {\n",
       "        text-align: right;\n",
       "    }\n",
       "</style>\n",
       "<table border=\"1\" class=\"dataframe\">\n",
       "  <thead>\n",
       "    <tr style=\"text-align: right;\">\n",
       "      <th></th>\n",
       "      <th>Unnamed: 0.2</th>\n",
       "      <th>movieId</th>\n",
       "      <th>actor_1_gender</th>\n",
       "      <th>actor_2_gender</th>\n",
       "      <th>actor_1_name</th>\n",
       "      <th>actor_2_name</th>\n",
       "      <th>director_gender</th>\n",
       "      <th>director_name</th>\n",
       "      <th>Unnamed: 0.1</th>\n",
       "      <th>Unnamed: 0</th>\n",
       "      <th>...</th>\n",
       "      <th>production_companies</th>\n",
       "      <th>production_countries</th>\n",
       "      <th>release_date</th>\n",
       "      <th>revenue</th>\n",
       "      <th>runtime</th>\n",
       "      <th>spoken_languages</th>\n",
       "      <th>title</th>\n",
       "      <th>vote_average</th>\n",
       "      <th>vote_count</th>\n",
       "      <th>rating</th>\n",
       "    </tr>\n",
       "  </thead>\n",
       "  <tbody>\n",
       "    <tr>\n",
       "      <th>0</th>\n",
       "      <td>0</td>\n",
       "      <td>862</td>\n",
       "      <td>2</td>\n",
       "      <td>2</td>\n",
       "      <td>Tom Hanks</td>\n",
       "      <td>Tim Allen</td>\n",
       "      <td>2</td>\n",
       "      <td>John Lasseter</td>\n",
       "      <td>0</td>\n",
       "      <td>Animation</td>\n",
       "      <td>...</td>\n",
       "      <td>Pixar Animation Studios</td>\n",
       "      <td>United States of America</td>\n",
       "      <td>1995-10-30</td>\n",
       "      <td>373554033.0</td>\n",
       "      <td>81.0</td>\n",
       "      <td>English</td>\n",
       "      <td>Toy Story</td>\n",
       "      <td>7.7</td>\n",
       "      <td>5415.0</td>\n",
       "      <td>3.598930</td>\n",
       "    </tr>\n",
       "    <tr>\n",
       "      <th>1</th>\n",
       "      <td>1</td>\n",
       "      <td>8844</td>\n",
       "      <td>2</td>\n",
       "      <td>2</td>\n",
       "      <td>Robin Williams</td>\n",
       "      <td>Jonathan Hyde</td>\n",
       "      <td>2</td>\n",
       "      <td>Joe Johnston</td>\n",
       "      <td>1</td>\n",
       "      <td>Adventure</td>\n",
       "      <td>...</td>\n",
       "      <td>TriStar Pictures</td>\n",
       "      <td>United States of America</td>\n",
       "      <td>1995-12-15</td>\n",
       "      <td>262797249.0</td>\n",
       "      <td>104.0</td>\n",
       "      <td>English</td>\n",
       "      <td>Jumanji</td>\n",
       "      <td>6.9</td>\n",
       "      <td>2413.0</td>\n",
       "      <td>3.760163</td>\n",
       "    </tr>\n",
       "    <tr>\n",
       "      <th>2</th>\n",
       "      <td>5</td>\n",
       "      <td>949</td>\n",
       "      <td>2</td>\n",
       "      <td>2</td>\n",
       "      <td>Al Pacino</td>\n",
       "      <td>Robert De Niro</td>\n",
       "      <td>2</td>\n",
       "      <td>Michael Mann</td>\n",
       "      <td>5</td>\n",
       "      <td>Action</td>\n",
       "      <td>...</td>\n",
       "      <td>Regency Enterprises</td>\n",
       "      <td>United States of America</td>\n",
       "      <td>1995-12-15</td>\n",
       "      <td>187436818.0</td>\n",
       "      <td>170.0</td>\n",
       "      <td>English</td>\n",
       "      <td>Heat</td>\n",
       "      <td>7.7</td>\n",
       "      <td>1886.0</td>\n",
       "      <td>3.905544</td>\n",
       "    </tr>\n",
       "    <tr>\n",
       "      <th>3</th>\n",
       "      <td>9</td>\n",
       "      <td>710</td>\n",
       "      <td>2</td>\n",
       "      <td>2</td>\n",
       "      <td>Pierce Brosnan</td>\n",
       "      <td>Sean Bean</td>\n",
       "      <td>2</td>\n",
       "      <td>Martin Campbell</td>\n",
       "      <td>9</td>\n",
       "      <td>Adventure</td>\n",
       "      <td>...</td>\n",
       "      <td>United Artists</td>\n",
       "      <td>United Kingdom</td>\n",
       "      <td>1995-11-16</td>\n",
       "      <td>352194034.0</td>\n",
       "      <td>130.0</td>\n",
       "      <td>English</td>\n",
       "      <td>GoldenEye</td>\n",
       "      <td>6.6</td>\n",
       "      <td>1194.0</td>\n",
       "      <td>2.740334</td>\n",
       "    </tr>\n",
       "    <tr>\n",
       "      <th>4</th>\n",
       "      <td>14</td>\n",
       "      <td>1408</td>\n",
       "      <td>1</td>\n",
       "      <td>2</td>\n",
       "      <td>Geena Davis</td>\n",
       "      <td>Matthew Modine</td>\n",
       "      <td>2</td>\n",
       "      <td>Renny Harlin</td>\n",
       "      <td>14</td>\n",
       "      <td>Action</td>\n",
       "      <td>...</td>\n",
       "      <td>Le Studio Canal+</td>\n",
       "      <td>France</td>\n",
       "      <td>1995-12-22</td>\n",
       "      <td>10017322.0</td>\n",
       "      <td>119.0</td>\n",
       "      <td>English</td>\n",
       "      <td>Cutthroat Island</td>\n",
       "      <td>5.7</td>\n",
       "      <td>137.0</td>\n",
       "      <td>3.710181</td>\n",
       "    </tr>\n",
       "    <tr>\n",
       "      <th>...</th>\n",
       "      <td>...</td>\n",
       "      <td>...</td>\n",
       "      <td>...</td>\n",
       "      <td>...</td>\n",
       "      <td>...</td>\n",
       "      <td>...</td>\n",
       "      <td>...</td>\n",
       "      <td>...</td>\n",
       "      <td>...</td>\n",
       "      <td>...</td>\n",
       "      <td>...</td>\n",
       "      <td>...</td>\n",
       "      <td>...</td>\n",
       "      <td>...</td>\n",
       "      <td>...</td>\n",
       "      <td>...</td>\n",
       "      <td>...</td>\n",
       "      <td>...</td>\n",
       "      <td>...</td>\n",
       "      <td>...</td>\n",
       "      <td>...</td>\n",
       "    </tr>\n",
       "    <tr>\n",
       "      <th>1920</th>\n",
       "      <td>39756</td>\n",
       "      <td>8453</td>\n",
       "      <td>1</td>\n",
       "      <td>2</td>\n",
       "      <td>Kajol</td>\n",
       "      <td>Aamir Khan</td>\n",
       "      <td>0</td>\n",
       "      <td>Kunal Kohli</td>\n",
       "      <td>44580</td>\n",
       "      <td>Action</td>\n",
       "      <td>...</td>\n",
       "      <td>Yash Raj Films</td>\n",
       "      <td>India</td>\n",
       "      <td>2006-05-26</td>\n",
       "      <td>22175908.0</td>\n",
       "      <td>168.0</td>\n",
       "      <td>हिन्दी</td>\n",
       "      <td>Fanaa</td>\n",
       "      <td>6.7</td>\n",
       "      <td>53.0</td>\n",
       "      <td>3.037500</td>\n",
       "    </tr>\n",
       "    <tr>\n",
       "      <th>1921</th>\n",
       "      <td>39917</td>\n",
       "      <td>123229</td>\n",
       "      <td>2</td>\n",
       "      <td>2</td>\n",
       "      <td>Ramzy Bedia</td>\n",
       "      <td>Medi Sadoun</td>\n",
       "      <td>2</td>\n",
       "      <td>Franck Gastambide</td>\n",
       "      <td>44844</td>\n",
       "      <td>Comedy</td>\n",
       "      <td>...</td>\n",
       "      <td>Canal+</td>\n",
       "      <td>France</td>\n",
       "      <td>2012-07-11</td>\n",
       "      <td>103504.0</td>\n",
       "      <td>98.0</td>\n",
       "      <td>Français</td>\n",
       "      <td>Porn in the Hood</td>\n",
       "      <td>5.4</td>\n",
       "      <td>92.0</td>\n",
       "      <td>2.150000</td>\n",
       "    </tr>\n",
       "    <tr>\n",
       "      <th>1922</th>\n",
       "      <td>39921</td>\n",
       "      <td>159447</td>\n",
       "      <td>2</td>\n",
       "      <td>0</td>\n",
       "      <td>Alain Delon</td>\n",
       "      <td>Elizaveta Boyarskaya</td>\n",
       "      <td>0</td>\n",
       "      <td>Sarik Andreasyan</td>\n",
       "      <td>44848</td>\n",
       "      <td>Comedy</td>\n",
       "      <td>...</td>\n",
       "      <td>Enjoy Movies</td>\n",
       "      <td>Russia</td>\n",
       "      <td>2012-12-27</td>\n",
       "      <td>11666088.0</td>\n",
       "      <td>90.0</td>\n",
       "      <td>Pусский</td>\n",
       "      <td>Mommies, Happy New Year!</td>\n",
       "      <td>5.3</td>\n",
       "      <td>9.0</td>\n",
       "      <td>3.326531</td>\n",
       "    </tr>\n",
       "    <tr>\n",
       "      <th>1923</th>\n",
       "      <td>39923</td>\n",
       "      <td>75438</td>\n",
       "      <td>2</td>\n",
       "      <td>0</td>\n",
       "      <td>Dmitriy Dyuzhev</td>\n",
       "      <td>Mikhail Galustyan</td>\n",
       "      <td>0</td>\n",
       "      <td>Sarik Andreasyan</td>\n",
       "      <td>44850</td>\n",
       "      <td>Comedy</td>\n",
       "      <td>...</td>\n",
       "      <td>[]</td>\n",
       "      <td>Russia</td>\n",
       "      <td>2011-07-21</td>\n",
       "      <td>8000000.0</td>\n",
       "      <td>81.0</td>\n",
       "      <td>Pусский</td>\n",
       "      <td>Pregnant</td>\n",
       "      <td>3.1</td>\n",
       "      <td>7.0</td>\n",
       "      <td>2.740506</td>\n",
       "    </tr>\n",
       "    <tr>\n",
       "      <th>1924</th>\n",
       "      <td>40021</td>\n",
       "      <td>26147</td>\n",
       "      <td>0</td>\n",
       "      <td>2</td>\n",
       "      <td>Minna Haapkylä</td>\n",
       "      <td>Petteri Summanen</td>\n",
       "      <td>0</td>\n",
       "      <td>Joona Tena</td>\n",
       "      <td>44970</td>\n",
       "      <td>Comedy</td>\n",
       "      <td>...</td>\n",
       "      <td>Talent House</td>\n",
       "      <td>Finland</td>\n",
       "      <td>2005-12-30</td>\n",
       "      <td>2411594.0</td>\n",
       "      <td>107.0</td>\n",
       "      <td>suomi</td>\n",
       "      <td>FC Venus</td>\n",
       "      <td>5.6</td>\n",
       "      <td>10.0</td>\n",
       "      <td>3.629412</td>\n",
       "    </tr>\n",
       "  </tbody>\n",
       "</table>\n",
       "<p>1925 rows × 27 columns</p>\n",
       "</div>"
      ],
      "text/plain": [
       "      Unnamed: 0.2  movieId  actor_1_gender  actor_2_gender     actor_1_name  \\\n",
       "0                0      862               2               2        Tom Hanks   \n",
       "1                1     8844               2               2   Robin Williams   \n",
       "2                5      949               2               2        Al Pacino   \n",
       "3                9      710               2               2   Pierce Brosnan   \n",
       "4               14     1408               1               2      Geena Davis   \n",
       "...            ...      ...             ...             ...              ...   \n",
       "1920         39756     8453               1               2            Kajol   \n",
       "1921         39917   123229               2               2      Ramzy Bedia   \n",
       "1922         39921   159447               2               0      Alain Delon   \n",
       "1923         39923    75438               2               0  Dmitriy Dyuzhev   \n",
       "1924         40021    26147               0               2   Minna Haapkylä   \n",
       "\n",
       "              actor_2_name  director_gender      director_name  Unnamed: 0.1  \\\n",
       "0                Tim Allen                2      John Lasseter             0   \n",
       "1            Jonathan Hyde                2       Joe Johnston             1   \n",
       "2           Robert De Niro                2       Michael Mann             5   \n",
       "3                Sean Bean                2    Martin Campbell             9   \n",
       "4           Matthew Modine                2       Renny Harlin            14   \n",
       "...                    ...              ...                ...           ...   \n",
       "1920            Aamir Khan                0        Kunal Kohli         44580   \n",
       "1921           Medi Sadoun                2  Franck Gastambide         44844   \n",
       "1922  Elizaveta Boyarskaya                0   Sarik Andreasyan         44848   \n",
       "1923     Mikhail Galustyan                0   Sarik Andreasyan         44850   \n",
       "1924      Petteri Summanen                0         Joona Tena         44970   \n",
       "\n",
       "     Unnamed: 0  ...     production_companies      production_countries  \\\n",
       "0     Animation  ...  Pixar Animation Studios  United States of America   \n",
       "1     Adventure  ...         TriStar Pictures  United States of America   \n",
       "2        Action  ...      Regency Enterprises  United States of America   \n",
       "3     Adventure  ...           United Artists            United Kingdom   \n",
       "4        Action  ...         Le Studio Canal+                    France   \n",
       "...         ...  ...                      ...                       ...   \n",
       "1920     Action  ...           Yash Raj Films                     India   \n",
       "1921     Comedy  ...                   Canal+                    France   \n",
       "1922     Comedy  ...             Enjoy Movies                    Russia   \n",
       "1923     Comedy  ...                       []                    Russia   \n",
       "1924     Comedy  ...             Talent House                   Finland   \n",
       "\n",
       "     release_date      revenue runtime spoken_languages  \\\n",
       "0      1995-10-30  373554033.0    81.0          English   \n",
       "1      1995-12-15  262797249.0   104.0          English   \n",
       "2      1995-12-15  187436818.0   170.0          English   \n",
       "3      1995-11-16  352194034.0   130.0          English   \n",
       "4      1995-12-22   10017322.0   119.0          English   \n",
       "...           ...          ...     ...              ...   \n",
       "1920   2006-05-26   22175908.0   168.0           हिन्दी   \n",
       "1921   2012-07-11     103504.0    98.0         Français   \n",
       "1922   2012-12-27   11666088.0    90.0          Pусский   \n",
       "1923   2011-07-21    8000000.0    81.0          Pусский   \n",
       "1924   2005-12-30    2411594.0   107.0            suomi   \n",
       "\n",
       "                         title vote_average vote_count    rating  \n",
       "0                    Toy Story          7.7     5415.0  3.598930  \n",
       "1                      Jumanji          6.9     2413.0  3.760163  \n",
       "2                         Heat          7.7     1886.0  3.905544  \n",
       "3                    GoldenEye          6.6     1194.0  2.740334  \n",
       "4             Cutthroat Island          5.7      137.0  3.710181  \n",
       "...                        ...          ...        ...       ...  \n",
       "1920                     Fanaa          6.7       53.0  3.037500  \n",
       "1921          Porn in the Hood          5.4       92.0  2.150000  \n",
       "1922  Mommies, Happy New Year!          5.3        9.0  3.326531  \n",
       "1923                  Pregnant          3.1        7.0  2.740506  \n",
       "1924                  FC Venus          5.6       10.0  3.629412  \n",
       "\n",
       "[1925 rows x 27 columns]"
      ]
     },
     "execution_count": 20,
     "metadata": {},
     "output_type": "execute_result"
    }
   ],
   "source": [
    "dfm\n"
   ]
  },
  {
   "cell_type": "code",
   "execution_count": 21,
   "id": "94add7f7",
   "metadata": {},
   "outputs": [],
   "source": [
    "dfm.to_csv('movie-final-small.csv')"
   ]
  },
  {
   "cell_type": "code",
   "execution_count": null,
   "id": "dc0de278",
   "metadata": {},
   "outputs": [],
   "source": []
  }
 ],
 "metadata": {
  "kernelspec": {
   "display_name": "Python 3 (ipykernel)",
   "language": "python",
   "name": "python3"
  },
  "language_info": {
   "codemirror_mode": {
    "name": "ipython",
    "version": 3
   },
   "file_extension": ".py",
   "mimetype": "text/x-python",
   "name": "python",
   "nbconvert_exporter": "python",
   "pygments_lexer": "ipython3",
   "version": "3.10.6"
  }
 },
 "nbformat": 4,
 "nbformat_minor": 5
}
