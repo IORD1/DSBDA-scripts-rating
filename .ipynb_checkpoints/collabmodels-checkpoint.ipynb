{
 "cells": [
  {
   "cell_type": "code",
   "execution_count": 1,
   "id": "20749a30",
   "metadata": {},
   "outputs": [],
   "source": [
    "import pandas as pd"
   ]
  },
  {
   "cell_type": "code",
   "execution_count": 2,
   "id": "76d8bc1a",
   "metadata": {},
   "outputs": [],
   "source": [
    "import pickle\n"
   ]
  },
  {
   "cell_type": "code",
   "execution_count": 10,
   "id": "ec11be92",
   "metadata": {},
   "outputs": [],
   "source": [
    "with open('AdaBoostClassifier()2.pkl', 'rb') as f:\n",
    "\n",
    "    # Load the model from the file\n",
    "    mnb = pickle.load(f)\n"
   ]
  },
  {
   "cell_type": "code",
   "execution_count": 9,
   "id": "193e5a97",
   "metadata": {},
   "outputs": [],
   "source": [
    "def foo(x):\n",
    "    return x.split()"
   ]
  },
  {
   "cell_type": "code",
   "execution_count": 12,
   "id": "065502e5",
   "metadata": {},
   "outputs": [
    {
     "data": {
      "text/plain": [
       "array(['Flop'], dtype='<U20')"
      ]
     },
     "execution_count": 12,
     "metadata": {},
     "output_type": "execute_result"
    }
   ],
   "source": [
    "mnb.predict([\"boy kill mother and father to save his village attack ninja jutsu\"])"
   ]
  },
  {
   "cell_type": "code",
   "execution_count": null,
   "id": "44994ab4",
   "metadata": {},
   "outputs": [],
   "source": []
  }
 ],
 "metadata": {
  "kernelspec": {
   "display_name": "Python 3 (ipykernel)",
   "language": "python",
   "name": "python3"
  },
  "language_info": {
   "codemirror_mode": {
    "name": "ipython",
    "version": 3
   },
   "file_extension": ".py",
   "mimetype": "text/x-python",
   "name": "python",
   "nbconvert_exporter": "python",
   "pygments_lexer": "ipython3",
   "version": "3.10.6"
  }
 },
 "nbformat": 4,
 "nbformat_minor": 5
}
