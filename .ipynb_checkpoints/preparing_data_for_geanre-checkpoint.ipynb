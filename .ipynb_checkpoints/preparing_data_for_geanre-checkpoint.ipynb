{
 "cells": [
  {
   "cell_type": "code",
   "execution_count": 1,
   "id": "489f9af4",
   "metadata": {},
   "outputs": [],
   "source": [
    "import pandas as pd"
   ]
  },
  {
   "cell_type": "code",
   "execution_count": 2,
   "id": "7d9c67e2",
   "metadata": {},
   "outputs": [],
   "source": [
    "df = pd.read_csv(\"editedcsv/processed1.csv\")"
   ]
  },
  {
   "cell_type": "code",
   "execution_count": 3,
   "id": "7c2a73ab",
   "metadata": {},
   "outputs": [
    {
     "data": {
      "text/plain": [
       "Unnamed: 0.2              int64\n",
       "movie_id                  int64\n",
       "actor_1_gender            int64\n",
       "actor_2_gender            int64\n",
       "actor_1_name             object\n",
       "actor_2_name             object\n",
       "director_gender           int64\n",
       "director_name            object\n",
       "Unnamed: 0.1              int64\n",
       "Unnamed: 0               object\n",
       "adult                      bool\n",
       "budget                    int64\n",
       "genres                   object\n",
       "original_language        object\n",
       "original_title           object\n",
       "overview                 object\n",
       "popularity              float64\n",
       "production_companies     object\n",
       "production_countries     object\n",
       "release_date             object\n",
       "revenue                 float64\n",
       "runtime                 float64\n",
       "spoken_languages         object\n",
       "title                    object\n",
       "vote_average            float64\n",
       "vote_count              float64\n",
       "dtype: object"
      ]
     },
     "execution_count": 3,
     "metadata": {},
     "output_type": "execute_result"
    }
   ],
   "source": [
    "df.dtypes"
   ]
  },
  {
   "cell_type": "code",
   "execution_count": 4,
   "id": "056fd1cc",
   "metadata": {},
   "outputs": [],
   "source": [
    "do = df[['movie_id', 'overview','genres']].copy()"
   ]
  },
  {
   "cell_type": "code",
   "execution_count": 5,
   "id": "61639404",
   "metadata": {},
   "outputs": [
    {
     "data": {
      "text/html": [
       "<div>\n",
       "<style scoped>\n",
       "    .dataframe tbody tr th:only-of-type {\n",
       "        vertical-align: middle;\n",
       "    }\n",
       "\n",
       "    .dataframe tbody tr th {\n",
       "        vertical-align: top;\n",
       "    }\n",
       "\n",
       "    .dataframe thead th {\n",
       "        text-align: right;\n",
       "    }\n",
       "</style>\n",
       "<table border=\"1\" class=\"dataframe\">\n",
       "  <thead>\n",
       "    <tr style=\"text-align: right;\">\n",
       "      <th></th>\n",
       "      <th>movie_id</th>\n",
       "      <th>overview</th>\n",
       "      <th>genres</th>\n",
       "    </tr>\n",
       "  </thead>\n",
       "  <tbody>\n",
       "    <tr>\n",
       "      <th>0</th>\n",
       "      <td>862</td>\n",
       "      <td>lead woody andy toy live happily room andy bir...</td>\n",
       "      <td>Animation</td>\n",
       "    </tr>\n",
       "    <tr>\n",
       "      <th>1</th>\n",
       "      <td>8844</td>\n",
       "      <td>sibling judy peter discover enchant board game...</td>\n",
       "      <td>Adventure</td>\n",
       "    </tr>\n",
       "    <tr>\n",
       "      <th>2</th>\n",
       "      <td>15602</td>\n",
       "      <td>family wed reignites ancient feud next door ne...</td>\n",
       "      <td>Romance</td>\n",
       "    </tr>\n",
       "    <tr>\n",
       "      <th>3</th>\n",
       "      <td>31357</td>\n",
       "      <td>cheat mistreat stepped woman hold breath wait ...</td>\n",
       "      <td>Comedy</td>\n",
       "    </tr>\n",
       "    <tr>\n",
       "      <th>4</th>\n",
       "      <td>11862</td>\n",
       "      <td>george bank recover daughter wed receives news...</td>\n",
       "      <td>Comedy</td>\n",
       "    </tr>\n",
       "    <tr>\n",
       "      <th>...</th>\n",
       "      <td>...</td>\n",
       "      <td>...</td>\n",
       "      <td>...</td>\n",
       "    </tr>\n",
       "    <tr>\n",
       "      <th>40392</th>\n",
       "      <td>289923</td>\n",
       "      <td>film archivist revisit story rustin parr hermi...</td>\n",
       "      <td>Horror</td>\n",
       "    </tr>\n",
       "    <tr>\n",
       "      <th>40393</th>\n",
       "      <td>222848</td>\n",
       "      <td>year ad world dangerous woman banish remote as...</td>\n",
       "      <td>Science Fiction</td>\n",
       "    </tr>\n",
       "    <tr>\n",
       "      <th>40394</th>\n",
       "      <td>30840</td>\n",
       "      <td>yet another version classic epic enough variat...</td>\n",
       "      <td>Drama</td>\n",
       "    </tr>\n",
       "    <tr>\n",
       "      <th>40395</th>\n",
       "      <td>67758</td>\n",
       "      <td>one hit go wrong professional assassin end sui...</td>\n",
       "      <td>Action</td>\n",
       "    </tr>\n",
       "    <tr>\n",
       "      <th>40396</th>\n",
       "      <td>227506</td>\n",
       "      <td>small town live two brother one minister one h...</td>\n",
       "      <td>[]</td>\n",
       "    </tr>\n",
       "  </tbody>\n",
       "</table>\n",
       "<p>40397 rows × 3 columns</p>\n",
       "</div>"
      ],
      "text/plain": [
       "       movie_id                                           overview  \\\n",
       "0           862  lead woody andy toy live happily room andy bir...   \n",
       "1          8844  sibling judy peter discover enchant board game...   \n",
       "2         15602  family wed reignites ancient feud next door ne...   \n",
       "3         31357  cheat mistreat stepped woman hold breath wait ...   \n",
       "4         11862  george bank recover daughter wed receives news...   \n",
       "...         ...                                                ...   \n",
       "40392    289923  film archivist revisit story rustin parr hermi...   \n",
       "40393    222848  year ad world dangerous woman banish remote as...   \n",
       "40394     30840  yet another version classic epic enough variat...   \n",
       "40395     67758  one hit go wrong professional assassin end sui...   \n",
       "40396    227506  small town live two brother one minister one h...   \n",
       "\n",
       "                genres  \n",
       "0            Animation  \n",
       "1            Adventure  \n",
       "2              Romance  \n",
       "3               Comedy  \n",
       "4               Comedy  \n",
       "...                ...  \n",
       "40392           Horror  \n",
       "40393  Science Fiction  \n",
       "40394            Drama  \n",
       "40395           Action  \n",
       "40396               []  \n",
       "\n",
       "[40397 rows x 3 columns]"
      ]
     },
     "execution_count": 5,
     "metadata": {},
     "output_type": "execute_result"
    }
   ],
   "source": [
    "do"
   ]
  },
  {
   "cell_type": "code",
   "execution_count": 6,
   "id": "930af879",
   "metadata": {},
   "outputs": [
    {
     "data": {
      "text/plain": [
       "1288"
      ]
     },
     "execution_count": 6,
     "metadata": {},
     "output_type": "execute_result"
    }
   ],
   "source": [
    "do['genres'].value_counts()['[]']"
   ]
  },
  {
   "cell_type": "code",
   "execution_count": 7,
   "id": "a2d9425d",
   "metadata": {},
   "outputs": [
    {
     "data": {
      "text/plain": [
       "0              Animation\n",
       "1              Adventure\n",
       "2                Romance\n",
       "3                 Comedy\n",
       "4                 Comedy\n",
       "              ...       \n",
       "40392             Horror\n",
       "40393    Science Fiction\n",
       "40394              Drama\n",
       "40395             Action\n",
       "40396                 []\n",
       "Name: genres, Length: 40397, dtype: object"
      ]
     },
     "execution_count": 7,
     "metadata": {},
     "output_type": "execute_result"
    }
   ],
   "source": [
    "do['genres']"
   ]
  },
  {
   "cell_type": "code",
   "execution_count": 10,
   "id": "46934b23",
   "metadata": {},
   "outputs": [],
   "source": [
    "do = do[(do.genres != '[]')]"
   ]
  },
  {
   "cell_type": "code",
   "execution_count": 11,
   "id": "5d9344b4",
   "metadata": {},
   "outputs": [
    {
     "data": {
      "text/html": [
       "<div>\n",
       "<style scoped>\n",
       "    .dataframe tbody tr th:only-of-type {\n",
       "        vertical-align: middle;\n",
       "    }\n",
       "\n",
       "    .dataframe tbody tr th {\n",
       "        vertical-align: top;\n",
       "    }\n",
       "\n",
       "    .dataframe thead th {\n",
       "        text-align: right;\n",
       "    }\n",
       "</style>\n",
       "<table border=\"1\" class=\"dataframe\">\n",
       "  <thead>\n",
       "    <tr style=\"text-align: right;\">\n",
       "      <th></th>\n",
       "      <th>movie_id</th>\n",
       "      <th>overview</th>\n",
       "      <th>genres</th>\n",
       "    </tr>\n",
       "  </thead>\n",
       "  <tbody>\n",
       "    <tr>\n",
       "      <th>0</th>\n",
       "      <td>862</td>\n",
       "      <td>lead woody andy toy live happily room andy bir...</td>\n",
       "      <td>Animation</td>\n",
       "    </tr>\n",
       "    <tr>\n",
       "      <th>1</th>\n",
       "      <td>8844</td>\n",
       "      <td>sibling judy peter discover enchant board game...</td>\n",
       "      <td>Adventure</td>\n",
       "    </tr>\n",
       "    <tr>\n",
       "      <th>2</th>\n",
       "      <td>15602</td>\n",
       "      <td>family wed reignites ancient feud next door ne...</td>\n",
       "      <td>Romance</td>\n",
       "    </tr>\n",
       "    <tr>\n",
       "      <th>3</th>\n",
       "      <td>31357</td>\n",
       "      <td>cheat mistreat stepped woman hold breath wait ...</td>\n",
       "      <td>Comedy</td>\n",
       "    </tr>\n",
       "    <tr>\n",
       "      <th>4</th>\n",
       "      <td>11862</td>\n",
       "      <td>george bank recover daughter wed receives news...</td>\n",
       "      <td>Comedy</td>\n",
       "    </tr>\n",
       "    <tr>\n",
       "      <th>...</th>\n",
       "      <td>...</td>\n",
       "      <td>...</td>\n",
       "      <td>...</td>\n",
       "    </tr>\n",
       "    <tr>\n",
       "      <th>40391</th>\n",
       "      <td>390959</td>\n",
       "      <td>true crime documentary delve murder spree insp...</td>\n",
       "      <td>Mystery</td>\n",
       "    </tr>\n",
       "    <tr>\n",
       "      <th>40392</th>\n",
       "      <td>289923</td>\n",
       "      <td>film archivist revisit story rustin parr hermi...</td>\n",
       "      <td>Horror</td>\n",
       "    </tr>\n",
       "    <tr>\n",
       "      <th>40393</th>\n",
       "      <td>222848</td>\n",
       "      <td>year ad world dangerous woman banish remote as...</td>\n",
       "      <td>Science Fiction</td>\n",
       "    </tr>\n",
       "    <tr>\n",
       "      <th>40394</th>\n",
       "      <td>30840</td>\n",
       "      <td>yet another version classic epic enough variat...</td>\n",
       "      <td>Drama</td>\n",
       "    </tr>\n",
       "    <tr>\n",
       "      <th>40395</th>\n",
       "      <td>67758</td>\n",
       "      <td>one hit go wrong professional assassin end sui...</td>\n",
       "      <td>Action</td>\n",
       "    </tr>\n",
       "  </tbody>\n",
       "</table>\n",
       "<p>39109 rows × 3 columns</p>\n",
       "</div>"
      ],
      "text/plain": [
       "       movie_id                                           overview  \\\n",
       "0           862  lead woody andy toy live happily room andy bir...   \n",
       "1          8844  sibling judy peter discover enchant board game...   \n",
       "2         15602  family wed reignites ancient feud next door ne...   \n",
       "3         31357  cheat mistreat stepped woman hold breath wait ...   \n",
       "4         11862  george bank recover daughter wed receives news...   \n",
       "...         ...                                                ...   \n",
       "40391    390959  true crime documentary delve murder spree insp...   \n",
       "40392    289923  film archivist revisit story rustin parr hermi...   \n",
       "40393    222848  year ad world dangerous woman banish remote as...   \n",
       "40394     30840  yet another version classic epic enough variat...   \n",
       "40395     67758  one hit go wrong professional assassin end sui...   \n",
       "\n",
       "                genres  \n",
       "0            Animation  \n",
       "1            Adventure  \n",
       "2              Romance  \n",
       "3               Comedy  \n",
       "4               Comedy  \n",
       "...                ...  \n",
       "40391          Mystery  \n",
       "40392           Horror  \n",
       "40393  Science Fiction  \n",
       "40394            Drama  \n",
       "40395           Action  \n",
       "\n",
       "[39109 rows x 3 columns]"
      ]
     },
     "execution_count": 11,
     "metadata": {},
     "output_type": "execute_result"
    }
   ],
   "source": [
    "do"
   ]
  },
  {
   "cell_type": "code",
   "execution_count": 12,
   "id": "c0326bfa",
   "metadata": {},
   "outputs": [
    {
     "data": {
      "text/plain": [
       "array(['Animation', 'Adventure', 'Romance', 'Comedy', 'Action', 'Family',\n",
       "       'History', 'Drama', 'Crime', 'Fantasy', 'Science Fiction',\n",
       "       'Thriller', 'Music', 'Horror', 'Documentary', 'Mystery', 'Western',\n",
       "       'TV Movie', 'War', 'Foreign'], dtype=object)"
      ]
     },
     "execution_count": 12,
     "metadata": {},
     "output_type": "execute_result"
    }
   ],
   "source": [
    "do['genres'].unique()"
   ]
  },
  {
   "cell_type": "code",
   "execution_count": 13,
   "id": "97f72f91",
   "metadata": {},
   "outputs": [],
   "source": [
    "do.to_csv('genresClassified.csv')"
   ]
  },
  {
   "cell_type": "code",
   "execution_count": 14,
   "id": "d9e642ec",
   "metadata": {},
   "outputs": [
    {
     "data": {
      "text/plain": [
       "(39109, 3)"
      ]
     },
     "execution_count": 14,
     "metadata": {},
     "output_type": "execute_result"
    }
   ],
   "source": [
    "do.shape"
   ]
  },
  {
   "cell_type": "code",
   "execution_count": 15,
   "id": "293ff570",
   "metadata": {},
   "outputs": [
    {
     "data": {
      "text/plain": [
       "movie_id    0\n",
       "overview    3\n",
       "genres      0\n",
       "dtype: int64"
      ]
     },
     "execution_count": 15,
     "metadata": {},
     "output_type": "execute_result"
    }
   ],
   "source": [
    "do.isnull().sum()"
   ]
  },
  {
   "cell_type": "code",
   "execution_count": 16,
   "id": "930bb715",
   "metadata": {},
   "outputs": [
    {
     "data": {
      "image/png": "[encoded data removed]",
      "text/plain": [
       "<Figure size 640x480 with 1 Axes>"
      ]
     },
     "metadata": {},
     "output_type": "display_data"
    }
   ],
   "source": [
    "import matplotlib.pyplot as plt\n",
    "\n",
    "\n",
    "# Group the dataframe by genre\n",
    "genre_groups = do.groupby('genres')\n",
    "\n",
    "# Sum the values in each group\n",
    "genre_counts = genre_groups['genres'].count()\n",
    "\n",
    "# Plot the pie chart\n",
    "plt.pie(genre_counts, labels=genre_groups.groups.keys())\n",
    "plt.show()\n"
   ]
  },
  {
   "cell_type": "code",
   "execution_count": 18,
   "id": "084f54f0",
   "metadata": {},
   "outputs": [
    {
     "data": {
      "image/png": "[encoded data removed]",
      "text/plain": [
       "<Figure size 640x480 with 1 Axes>"
      ]
     },
     "metadata": {},
     "output_type": "display_data"
    }
   ],
   "source": [
    "import numpy as np\n",
    "\n",
    "np.random.seed(0)\n",
    "data = do['genres']\n",
    "\n",
    "# Plotting the histogram\n",
    "plt.hist(data, bins=30, edgecolor='black')\n",
    "plt.xlabel('Value')\n",
    "plt.ylabel('Frequency')\n",
    "plt.title('Histogram of Random Data')\n",
    "plt.show()"
   ]
  },
  {
   "cell_type": "code",
   "execution_count": null,
   "id": "3252d3e4",
   "metadata": {},
   "outputs": [],
   "source": []
  }
 ],
 "metadata": {
  "kernelspec": {
   "display_name": "Python 3 (ipykernel)",
   "language": "python",
   "name": "python3"
  },
  "language_info": {
   "codemirror_mode": {
    "name": "ipython",
    "version": 3
   },
   "file_extension": ".py",
   "mimetype": "text/x-python",
   "name": "python",
   "nbconvert_exporter": "python",
   "pygments_lexer": "ipython3",
   "version": "3.10.6"
  }
 },
 "nbformat": 4,
 "nbformat_minor": 5
}
