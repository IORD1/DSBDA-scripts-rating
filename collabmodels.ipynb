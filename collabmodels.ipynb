{
 "cells": [
  {
   "cell_type": "code",
   "execution_count": 1,
   "id": "a2294792",
   "metadata": {},
   "outputs": [],
   "source": [
    "import pandas as pd"
   ]
  },
  {
   "cell_type": "code",
   "execution_count": 2,
   "id": "2df9788b",
   "metadata": {},
   "outputs": [],
   "source": [
    "import pickle\n"
   ]
  },
  {
   "cell_type": "code",
   "execution_count": 29,
   "id": "02a8d214",
   "metadata": {},
   "outputs": [],
   "source": [
    "with open('SVC(class_weight=\\'balanced\\').pkl', 'rb') as f:\n",
    "\n",
    "    # Load the model from the file\n",
    "    mnb = pickle.load(f)\n"
   ]
  },
  {
   "cell_type": "code",
   "execution_count": 9,
   "id": "590b5c3b",
   "metadata": {},
   "outputs": [],
   "source": [
    "def foo(x):\n",
    "    return x.split()"
   ]
  },
  {
   "cell_type": "code",
   "execution_count": 67,
   "id": "298e81cc",
   "metadata": {},
   "outputs": [
    {
     "data": {
      "text/plain": [
       "array(['Below Average'], dtype='<U20')"
      ]
     },
     "execution_count": 67,
     "metadata": {},
     "output_type": "execute_result"
    }
   ],
   "source": [
    "mnb.predict([\"Frozen II is an animated musical fantasy film and a sequel to Disney's Frozen. It follows Elsa, Anna, Kristoff, Olaf, and Sven as they embark on a journey to discover the source of Elsa's magical powers.\"])"
   ]
  },
  {
   "cell_type": "code",
   "execution_count": 17,
   "id": "51ce5b75",
   "metadata": {},
   "outputs": [],
   "source": [
    "df = pd.read_csv(\"editedcsv/classified_overview.csv\")"
   ]
  },
  {
   "cell_type": "code",
   "execution_count": 64,
   "id": "ac8f34db",
   "metadata": {},
   "outputs": [
    {
     "data": {
      "text/plain": [
       "'highland scotland rob roy try lead small town well future borrow money local nobility buy cattle herd market money steal rob force robin hood lifestyle defend family honour'"
      ]
     },
     "execution_count": 64,
     "metadata": {},
     "output_type": "execute_result"
    }
   ],
   "source": [
    "df['overview'][67]"
   ]
  },
  {
   "cell_type": "code",
   "execution_count": 70,
   "id": "fbe552a1",
   "metadata": {},
   "outputs": [],
   "source": [
    "with open('randome_f_numeric_revenue', 'rb') as f:\n",
    "\n",
    "    # Load the model from the file\n",
    "    mnb = pickle.load(f)\n"
   ]
  },
  {
   "cell_type": "code",
   "execution_count": null,
   "id": "6a71b4a5",
   "metadata": {},
   "outputs": [],
   "source": []
  }
 ],
 "metadata": {
  "kernelspec": {
   "display_name": "Python 3 (ipykernel)",
   "language": "python",
   "name": "python3"
  },
  "language_info": {
   "codemirror_mode": {
    "name": "ipython",
    "version": 3
   },
   "file_extension": ".py",
   "mimetype": "text/x-python",
   "name": "python",
   "nbconvert_exporter": "python",
   "pygments_lexer": "ipython3",
   "version": "3.10.6"
  }
 },
 "nbformat": 4,
 "nbformat_minor": 5
}
