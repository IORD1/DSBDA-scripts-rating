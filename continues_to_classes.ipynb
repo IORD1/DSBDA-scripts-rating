{
 "cells": [
  {
   "cell_type": "code",
   "execution_count": 20,
   "id": "625e99dc",
   "metadata": {},
   "outputs": [],
   "source": [
    "import pandas as pd"
   ]
  },
  {
   "cell_type": "code",
   "execution_count": 2,
   "id": "abcfa78a",
   "metadata": {},
   "outputs": [],
   "source": [
    "df = pd.read_csv(\"final_ka_final.csv\")"
   ]
  },
  {
   "cell_type": "code",
   "execution_count": 24,
   "id": "e594e6c8",
   "metadata": {},
   "outputs": [],
   "source": [
    "data = pd.read_csv(\"processed1.csv\")"
   ]
  },
  {
   "cell_type": "code",
   "execution_count": 42,
   "id": "a4212b3f",
   "metadata": {},
   "outputs": [
    {
     "data": {
      "text/plain": [
       "Unnamed: 0.2               int64\n",
       "movie_id                   int64\n",
       "actor_1_gender             int64\n",
       "actor_2_gender             int64\n",
       "actor_1_name              object\n",
       "actor_2_name              object\n",
       "director_gender            int64\n",
       "director_name             object\n",
       "Unnamed: 0.1               int64\n",
       "Unnamed: 0                object\n",
       "adult                       bool\n",
       "budget                     int64\n",
       "genres                    object\n",
       "original_language         object\n",
       "original_title            object\n",
       "overview                  object\n",
       "popularity               float64\n",
       "production_companies      object\n",
       "production_countries      object\n",
       "release_date              object\n",
       "revenue                  float64\n",
       "runtime                  float64\n",
       "spoken_languages          object\n",
       "title                     object\n",
       "vote_average             float64\n",
       "vote_count               float64\n",
       "Label                   category\n",
       "dtype: object"
      ]
     },
     "execution_count": 42,
     "metadata": {},
     "output_type": "execute_result"
    }
   ],
   "source": [
    "data.dtypes"
   ]
  },
  {
   "cell_type": "code",
   "execution_count": 37,
   "id": "b9d2fead",
   "metadata": {},
   "outputs": [
    {
     "data": {
      "text/plain": [
       "Unnamed: 0.2               int64\n",
       "movie_id                   int64\n",
       "actor_1_gender             int64\n",
       "actor_2_gender             int64\n",
       "actor_1_name              object\n",
       "actor_2_name              object\n",
       "director_gender            int64\n",
       "director_name             object\n",
       "Unnamed: 0.1               int64\n",
       "Unnamed: 0                object\n",
       "adult                       bool\n",
       "budget                     int64\n",
       "genres                    object\n",
       "original_language         object\n",
       "original_title            object\n",
       "overview                  object\n",
       "popularity               float64\n",
       "production_companies      object\n",
       "production_countries      object\n",
       "release_date              object\n",
       "revenue                  float64\n",
       "runtime                  float64\n",
       "spoken_languages          object\n",
       "title                     object\n",
       "vote_average             float64\n",
       "vote_count               float64\n",
       "Label                   category\n",
       "dtype: object"
      ]
     },
     "execution_count": 37,
     "metadata": {},
     "output_type": "execute_result"
    }
   ],
   "source": [
    "df.dtypes"
   ]
  },
  {
   "cell_type": "code",
   "execution_count": 39,
   "id": "dac9cfd7",
   "metadata": {},
   "outputs": [],
   "source": [
    "small = df[['movie_id', 'Label']].copy()"
   ]
  },
  {
   "cell_type": "code",
   "execution_count": 43,
   "id": "a4b54d47",
   "metadata": {},
   "outputs": [],
   "source": [
    "smallover = data[['movie_id','overview']].copy()"
   ]
  },
  {
   "cell_type": "code",
   "execution_count": 45,
   "id": "53f238b5",
   "metadata": {},
   "outputs": [
    {
     "data": {
      "text/html": [
       "<div>\n",
       "<style scoped>\n",
       "    .dataframe tbody tr th:only-of-type {\n",
       "        vertical-align: middle;\n",
       "    }\n",
       "\n",
       "    .dataframe tbody tr th {\n",
       "        vertical-align: top;\n",
       "    }\n",
       "\n",
       "    .dataframe thead th {\n",
       "        text-align: right;\n",
       "    }\n",
       "</style>\n",
       "<table border=\"1\" class=\"dataframe\">\n",
       "  <thead>\n",
       "    <tr style=\"text-align: right;\">\n",
       "      <th></th>\n",
       "      <th>movie_id</th>\n",
       "      <th>overview</th>\n",
       "    </tr>\n",
       "  </thead>\n",
       "  <tbody>\n",
       "    <tr>\n",
       "      <th>0</th>\n",
       "      <td>862</td>\n",
       "      <td>lead woody andy toy live happily room andy bir...</td>\n",
       "    </tr>\n",
       "    <tr>\n",
       "      <th>1</th>\n",
       "      <td>8844</td>\n",
       "      <td>sibling judy peter discover enchant board game...</td>\n",
       "    </tr>\n",
       "    <tr>\n",
       "      <th>2</th>\n",
       "      <td>15602</td>\n",
       "      <td>family wed reignites ancient feud next door ne...</td>\n",
       "    </tr>\n",
       "    <tr>\n",
       "      <th>3</th>\n",
       "      <td>31357</td>\n",
       "      <td>cheat mistreat stepped woman hold breath wait ...</td>\n",
       "    </tr>\n",
       "    <tr>\n",
       "      <th>4</th>\n",
       "      <td>11862</td>\n",
       "      <td>george bank recover daughter wed receives news...</td>\n",
       "    </tr>\n",
       "    <tr>\n",
       "      <th>...</th>\n",
       "      <td>...</td>\n",
       "      <td>...</td>\n",
       "    </tr>\n",
       "    <tr>\n",
       "      <th>40392</th>\n",
       "      <td>289923</td>\n",
       "      <td>film archivist revisit story rustin parr hermi...</td>\n",
       "    </tr>\n",
       "    <tr>\n",
       "      <th>40393</th>\n",
       "      <td>222848</td>\n",
       "      <td>year ad world dangerous woman banish remote as...</td>\n",
       "    </tr>\n",
       "    <tr>\n",
       "      <th>40394</th>\n",
       "      <td>30840</td>\n",
       "      <td>yet another version classic epic enough variat...</td>\n",
       "    </tr>\n",
       "    <tr>\n",
       "      <th>40395</th>\n",
       "      <td>67758</td>\n",
       "      <td>one hit go wrong professional assassin end sui...</td>\n",
       "    </tr>\n",
       "    <tr>\n",
       "      <th>40396</th>\n",
       "      <td>227506</td>\n",
       "      <td>small town live two brother one minister one h...</td>\n",
       "    </tr>\n",
       "  </tbody>\n",
       "</table>\n",
       "<p>40397 rows × 2 columns</p>\n",
       "</div>"
      ],
      "text/plain": [
       "       movie_id                                           overview\n",
       "0           862  lead woody andy toy live happily room andy bir...\n",
       "1          8844  sibling judy peter discover enchant board game...\n",
       "2         15602  family wed reignites ancient feud next door ne...\n",
       "3         31357  cheat mistreat stepped woman hold breath wait ...\n",
       "4         11862  george bank recover daughter wed receives news...\n",
       "...         ...                                                ...\n",
       "40392    289923  film archivist revisit story rustin parr hermi...\n",
       "40393    222848  year ad world dangerous woman banish remote as...\n",
       "40394     30840  yet another version classic epic enough variat...\n",
       "40395     67758  one hit go wrong professional assassin end sui...\n",
       "40396    227506  small town live two brother one minister one h...\n",
       "\n",
       "[40397 rows x 2 columns]"
      ]
     },
     "execution_count": 45,
     "metadata": {},
     "output_type": "execute_result"
    }
   ],
   "source": [
    "smalloverer"
   ]
  },
  {
   "cell_type": "code",
   "execution_count": 46,
   "id": "210bb38e",
   "metadata": {},
   "outputs": [],
   "source": [
    "smallmo = pd.merge(small, smallover, on=\"movie_id\")"
   ]
  },
  {
   "cell_type": "code",
   "execution_count": 47,
   "id": "989079f8",
   "metadata": {},
   "outputs": [
    {
     "data": {
      "text/html": [
       "<div>\n",
       "<style scoped>\n",
       "    .dataframe tbody tr th:only-of-type {\n",
       "        vertical-align: middle;\n",
       "    }\n",
       "\n",
       "    .dataframe tbody tr th {\n",
       "        vertical-align: top;\n",
       "    }\n",
       "\n",
       "    .dataframe thead th {\n",
       "        text-align: right;\n",
       "    }\n",
       "</style>\n",
       "<table border=\"1\" class=\"dataframe\">\n",
       "  <thead>\n",
       "    <tr style=\"text-align: right;\">\n",
       "      <th></th>\n",
       "      <th>movie_id</th>\n",
       "      <th>Label</th>\n",
       "      <th>overview</th>\n",
       "    </tr>\n",
       "  </thead>\n",
       "  <tbody>\n",
       "    <tr>\n",
       "      <th>0</th>\n",
       "      <td>862</td>\n",
       "      <td>Superhit</td>\n",
       "      <td>lead woody andy toy live happily room andy bir...</td>\n",
       "    </tr>\n",
       "    <tr>\n",
       "      <th>1</th>\n",
       "      <td>8844</td>\n",
       "      <td>Superhit</td>\n",
       "      <td>sibling judy peter discover enchant board game...</td>\n",
       "    </tr>\n",
       "    <tr>\n",
       "      <th>2</th>\n",
       "      <td>31357</td>\n",
       "      <td>Above Average</td>\n",
       "      <td>cheat mistreat stepped woman hold breath wait ...</td>\n",
       "    </tr>\n",
       "    <tr>\n",
       "      <th>3</th>\n",
       "      <td>11862</td>\n",
       "      <td>Above Average</td>\n",
       "      <td>george bank recover daughter wed receives news...</td>\n",
       "    </tr>\n",
       "    <tr>\n",
       "      <th>4</th>\n",
       "      <td>949</td>\n",
       "      <td>Hit</td>\n",
       "      <td>obsessive master thief neil mccauley lead top ...</td>\n",
       "    </tr>\n",
       "    <tr>\n",
       "      <th>...</th>\n",
       "      <td>...</td>\n",
       "      <td>...</td>\n",
       "      <td>...</td>\n",
       "    </tr>\n",
       "    <tr>\n",
       "      <th>7419</th>\n",
       "      <td>264269</td>\n",
       "      <td>Disaster</td>\n",
       "      <td>sveta maxim happy newlywed move hew apartment ...</td>\n",
       "    </tr>\n",
       "    <tr>\n",
       "      <th>7420</th>\n",
       "      <td>240789</td>\n",
       "      <td>Disaster</td>\n",
       "      <td>film base real event take place samara know st...</td>\n",
       "    </tr>\n",
       "    <tr>\n",
       "      <th>7421</th>\n",
       "      <td>62757</td>\n",
       "      <td>Flop</td>\n",
       "      <td>sea august interesting simple people tan swim ...</td>\n",
       "    </tr>\n",
       "    <tr>\n",
       "      <th>7422</th>\n",
       "      <td>63281</td>\n",
       "      <td>Flop</td>\n",
       "      <td>у девушки даши приехавшей с подругой покорять ...</td>\n",
       "    </tr>\n",
       "    <tr>\n",
       "      <th>7423</th>\n",
       "      <td>63898</td>\n",
       "      <td>Flop</td>\n",
       "      <td>fail complete important assignment without cas...</td>\n",
       "    </tr>\n",
       "  </tbody>\n",
       "</table>\n",
       "<p>7424 rows × 3 columns</p>\n",
       "</div>"
      ],
      "text/plain": [
       "      movie_id          Label  \\\n",
       "0          862       Superhit   \n",
       "1         8844       Superhit   \n",
       "2        31357  Above Average   \n",
       "3        11862  Above Average   \n",
       "4          949            Hit   \n",
       "...        ...            ...   \n",
       "7419    264269       Disaster   \n",
       "7420    240789       Disaster   \n",
       "7421     62757           Flop   \n",
       "7422     63281           Flop   \n",
       "7423     63898           Flop   \n",
       "\n",
       "                                               overview  \n",
       "0     lead woody andy toy live happily room andy bir...  \n",
       "1     sibling judy peter discover enchant board game...  \n",
       "2     cheat mistreat stepped woman hold breath wait ...  \n",
       "3     george bank recover daughter wed receives news...  \n",
       "4     obsessive master thief neil mccauley lead top ...  \n",
       "...                                                 ...  \n",
       "7419  sveta maxim happy newlywed move hew apartment ...  \n",
       "7420  film base real event take place samara know st...  \n",
       "7421  sea august interesting simple people tan swim ...  \n",
       "7422  у девушки даши приехавшей с подругой покорять ...  \n",
       "7423  fail complete important assignment without cas...  \n",
       "\n",
       "[7424 rows x 3 columns]"
      ]
     },
     "execution_count": 47,
     "metadata": {},
     "output_type": "execute_result"
    }
   ],
   "source": [
    "smallmo\n"
   ]
  },
  {
   "cell_type": "code",
   "execution_count": 48,
   "id": "8ac3f4e1",
   "metadata": {},
   "outputs": [],
   "source": [
    "smallmo.to_csv('classified_overview.csv')"
   ]
  },
  {
   "cell_type": "code",
   "execution_count": null,
   "id": "a5bafef8",
   "metadata": {},
   "outputs": [],
   "source": []
  },
  {
   "cell_type": "code",
   "execution_count": null,
   "id": "5c3578e4",
   "metadata": {},
   "outputs": [],
   "source": []
  },
  {
   "cell_type": "code",
   "execution_count": 5,
   "id": "122d71c8",
   "metadata": {},
   "outputs": [
    {
     "data": {
      "text/plain": [
       "<bound method NDFrame.describe of 0       373554033.0\n",
       "1       262797249.0\n",
       "2        81452156.0\n",
       "3        76578911.0\n",
       "4       187436818.0\n",
       "           ...     \n",
       "7299       320395.0\n",
       "7300        50656.0\n",
       "7301      1328612.0\n",
       "7302      1268793.0\n",
       "7303      1413000.0\n",
       "Name: revenue, Length: 7304, dtype: float64>"
      ]
     },
     "execution_count": 5,
     "metadata": {},
     "output_type": "execute_result"
    }
   ],
   "source": [
    "df['revenue'].describe"
   ]
  },
  {
   "cell_type": "code",
   "execution_count": 31,
   "id": "d64c09d5",
   "metadata": {},
   "outputs": [],
   "source": [
    "df['Label'] = pd.cut(x=df['revenue'],\n",
    "                     bins=[0,1000000, 10000000, 30000000, 50000000,100000000,200000000,500000000,1000000000,2000000000,20000000000],\n",
    "                     labels=['Disaster', 'Flop', 'Below Average','Average','Above Average','Hit','Superhit','Blockbuster','Mega Blockbuster','All-time-blockbuster'])\n",
    "  "
   ]
  },
  {
   "cell_type": "code",
   "execution_count": 32,
   "id": "1fdbb463",
   "metadata": {},
   "outputs": [
    {
     "data": {
      "text/plain": [
       "0            Superhit\n",
       "1            Superhit\n",
       "2       Above Average\n",
       "3       Above Average\n",
       "4                 Hit\n",
       "            ...      \n",
       "7299         Disaster\n",
       "7300         Disaster\n",
       "7301             Flop\n",
       "7302             Flop\n",
       "7303             Flop\n",
       "Name: Label, Length: 7304, dtype: category\n",
       "Categories (10, object): ['Disaster' < 'Flop' < 'Below Average' < 'Average' ... 'Superhit' < 'Blockbuster' < 'Mega Blockbuster' < 'All-time-blockbuster']"
      ]
     },
     "execution_count": 32,
     "metadata": {},
     "output_type": "execute_result"
    }
   ],
   "source": [
    "df['Label']"
   ]
  },
  {
   "cell_type": "code",
   "execution_count": 35,
   "id": "d0cd3c6e",
   "metadata": {},
   "outputs": [
    {
     "data": {
      "text/plain": [
       "\"Just when George Banks has recovered from his daughter's wedding, he receives the news that she's pregnant ... and that George's wife, Nina, is expecting too. He was planning on selling their home, but that's a plan that -- like George -- will have to change with the arrival of both a grandchild and a kid of his own.\""
      ]
     },
     "execution_count": 35,
     "metadata": {},
     "output_type": "execute_result"
    }
   ],
   "source": [
    "df['overview'][3]"
   ]
  },
  {
   "cell_type": "code",
   "execution_count": 13,
   "id": "00bee1ca",
   "metadata": {},
   "outputs": [
    {
     "data": {
      "image/png": "[encoded data removed]",
      "text/plain": [
       "<Figure size 640x480 with 1 Axes>"
      ]
     },
     "metadata": {},
     "output_type": "display_data"
    }
   ],
   "source": [
    "import matplotlib.pyplot as plt\n",
    "import numpy as np\n",
    "\n",
    "# Example data\n",
    "np.random.seed(0)\n",
    "data = df['Label']\n",
    "\n",
    "# Plotting the histogram\n",
    "plt.hist(data, bins=30, edgecolor='black')\n",
    "plt.xlabel('Value')\n",
    "plt.ylabel('Frequency')\n",
    "plt.title('Histogram of Random Data')\n",
    "plt.show()"
   ]
  },
  {
   "cell_type": "code",
   "execution_count": 19,
   "id": "03104351",
   "metadata": {},
   "outputs": [
    {
     "data": {
      "image/png": "[encoded data removed]",
      "text/plain": [
       "<Figure size 640x480 with 1 Axes>"
      ]
     },
     "metadata": {},
     "output_type": "display_data"
    }
   ],
   "source": [
    "import pandas as pd\n",
    "import matplotlib.pyplot as plt\n",
    "\n",
    "\n",
    "# Group the dataframe by genre\n",
    "genre_groups = df.groupby('Label')\n",
    "\n",
    "# Sum the values in each group\n",
    "genre_counts = genre_groups['Label'].count()\n",
    "\n",
    "# Plot the pie chart\n",
    "plt.pie(genre_counts, labels=genre_groups.groups.keys())\n",
    "plt.show()\n"
   ]
  },
  {
   "cell_type": "code",
   "execution_count": null,
   "id": "4565bfe1",
   "metadata": {},
   "outputs": [],
   "source": []
  },
  {
   "cell_type": "code",
   "execution_count": null,
   "id": "70de48c8",
   "metadata": {},
   "outputs": [],
   "source": []
  }
 ],
 "metadata": {
  "kernelspec": {
   "display_name": "Python 3 (ipykernel)",
   "language": "python",
   "name": "python3"
  },
  "language_info": {
   "codemirror_mode": {
    "name": "ipython",
    "version": 3
   },
   "file_extension": ".py",
   "mimetype": "text/x-python",
   "name": "python",
   "nbconvert_exporter": "python",
   "pygments_lexer": "ipython3",
   "version": "3.10.6"
  }
 },
 "nbformat": 4,
 "nbformat_minor": 5
}
