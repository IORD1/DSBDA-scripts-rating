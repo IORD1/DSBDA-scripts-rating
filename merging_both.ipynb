{
 "cells": [
  {
   "cell_type": "code",
   "execution_count": 1,
   "id": "8da3e673",
   "metadata": {},
   "outputs": [],
   "source": [
    "import pandas as pd"
   ]
  },
  {
   "cell_type": "code",
   "execution_count": 2,
   "id": "d8300575",
   "metadata": {},
   "outputs": [
    {
     "name": "stderr",
     "output_type": "stream",
     "text": [
      "/tmp/ipykernel_21184/4055812394.py:1: DtypeWarning: Columns (1,2,20) have mixed types. Specify dtype option on import or set low_memory=False.\n",
      "  df = pd.read_csv('movie_data.csv')\n"
     ]
    }
   ],
   "source": [
    "df = pd.read_csv('movie_data.csv')"
   ]
  },
  {
   "cell_type": "code",
   "execution_count": 4,
   "id": "8639a904",
   "metadata": {},
   "outputs": [],
   "source": [
    "dfr = pd.read_csv(\"rating_mean_all.csv\")"
   ]
  },
  {
   "cell_type": "code",
   "execution_count": 5,
   "id": "dcccb9e3",
   "metadata": {},
   "outputs": [
    {
     "data": {
      "text/plain": [
       "(45115, 2)"
      ]
     },
     "execution_count": 5,
     "metadata": {},
     "output_type": "execute_result"
    }
   ],
   "source": [
    "dfr.shape"
   ]
  },
  {
   "cell_type": "code",
   "execution_count": 22,
   "id": "b7323997",
   "metadata": {},
   "outputs": [
    {
     "data": {
      "text/plain": [
       "Unnamed: 0                  0\n",
       "adult                       0\n",
       "budget                      0\n",
       "genres                      0\n",
       "id                          0\n",
       "original_language          11\n",
       "original_title              0\n",
       "overview                  954\n",
       "popularity                  5\n",
       "production_companies        4\n",
       "production_countries        3\n",
       "release_date               87\n",
       "revenue                     6\n",
       "runtime                   263\n",
       "spoken_languages            6\n",
       "tagline                 24986\n",
       "title                      64\n",
       "vote_average                9\n",
       "vote_count                  9\n",
       "Unnamed: 24             45335\n",
       "Unnamed: 25             45443\n",
       "Unnamed: 26             45455\n",
       "Unnamed: 27             45461\n",
       "dtype: int64"
      ]
     },
     "execution_count": 22,
     "metadata": {},
     "output_type": "execute_result"
    }
   ],
   "source": [
    "df.isnull().sum()"
   ]
  },
  {
   "cell_type": "code",
   "execution_count": 7,
   "id": "cf4dd0e3",
   "metadata": {},
   "outputs": [],
   "source": [
    "dfr.rename(columns = {'movieId':'id'}, inplace = True)"
   ]
  },
  {
   "cell_type": "code",
   "execution_count": 23,
   "id": "685b59c4",
   "metadata": {},
   "outputs": [
    {
     "ename": "SyntaxError",
     "evalue": "positional argument follows keyword argument (3437473852.py, line 1)",
     "output_type": "error",
     "traceback": [
      "\u001b[0;36m  Cell \u001b[0;32mIn[23], line 1\u001b[0;36m\u001b[0m\n\u001b[0;31m    dfm = pd.merge(df, dfr, on=\"id\",left)\u001b[0m\n\u001b[0m                                        ^\u001b[0m\n\u001b[0;31mSyntaxError\u001b[0m\u001b[0;31m:\u001b[0m positional argument follows keyword argument\n"
     ]
    }
   ],
   "source": [
    "dfm = pd.merge(df, dfr, on=\"id\")"
   ]
  },
  {
   "cell_type": "code",
   "execution_count": 24,
   "id": "0fc54b4a",
   "metadata": {},
   "outputs": [],
   "source": [
    "dfm2 = pd.merge(df, dfr, on='id',  how='left')"
   ]
  },
  {
   "cell_type": "code",
   "execution_count": 25,
   "id": "80f87795",
   "metadata": {},
   "outputs": [
    {
     "data": {
      "text/plain": [
       "(45466, 24)"
      ]
     },
     "execution_count": 25,
     "metadata": {},
     "output_type": "execute_result"
    }
   ],
   "source": [
    "dfm2.shape"
   ]
  },
  {
   "cell_type": "code",
   "execution_count": 37,
   "id": "7984fdbb",
   "metadata": {},
   "outputs": [],
   "source": [
    "dfm2.to_csv('movie_&_rating.csv')"
   ]
  },
  {
   "cell_type": "code",
   "execution_count": 38,
   "id": "29dcd77a",
   "metadata": {},
   "outputs": [
    {
     "data": {
      "text/plain": [
       "adult                       0\n",
       "budget                      0\n",
       "genres                      0\n",
       "id                          0\n",
       "original_language          11\n",
       "original_title              0\n",
       "overview                  954\n",
       "popularity                  5\n",
       "production_companies        4\n",
       "production_countries        3\n",
       "release_date               87\n",
       "revenue                     6\n",
       "runtime                   263\n",
       "spoken_languages            6\n",
       "tagline                 24986\n",
       "title                      64\n",
       "vote_average                9\n",
       "vote_count                  9\n",
       "rating                  37897\n",
       "dtype: int64"
      ]
     },
     "execution_count": 38,
     "metadata": {},
     "output_type": "execute_result"
    }
   ],
   "source": [
    "dfm2.isnull().sum()"
   ]
  },
  {
   "cell_type": "code",
   "execution_count": 35,
   "id": "d22d0f7a",
   "metadata": {},
   "outputs": [],
   "source": [
    "dfm2 = dfm2.drop(['Unnamed: 24', 'Unnamed: 25','Unnamed: 26','Unnamed: 27','Unnamed: 0'], axis=1)"
   ]
  },
  {
   "cell_type": "code",
   "execution_count": 36,
   "id": "410e0654",
   "metadata": {},
   "outputs": [
    {
     "data": {
      "text/plain": [
       "(45466, 19)"
      ]
     },
     "execution_count": 36,
     "metadata": {},
     "output_type": "execute_result"
    }
   ],
   "source": [
    "dfm2.shape"
   ]
  },
  {
   "cell_type": "code",
   "execution_count": null,
   "id": "2bfa5a13",
   "metadata": {},
   "outputs": [],
   "source": []
  }
 ],
 "metadata": {
  "kernelspec": {
   "display_name": "Python 3 (ipykernel)",
   "language": "python",
   "name": "python3"
  },
  "language_info": {
   "codemirror_mode": {
    "name": "ipython",
    "version": 3
   },
   "file_extension": ".py",
   "mimetype": "text/x-python",
   "name": "python",
   "nbconvert_exporter": "python",
   "pygments_lexer": "ipython3",
   "version": "3.10.6"
  }
 },
 "nbformat": 4,
 "nbformat_minor": 5
}
